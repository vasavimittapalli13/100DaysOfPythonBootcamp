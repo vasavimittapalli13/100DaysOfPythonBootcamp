{
 "cells": [
  {
   "cell_type": "markdown",
   "id": "97869f41",
   "metadata": {},
   "source": [
    "### print()"
   ]
  },
  {
   "cell_type": "markdown",
   "id": "87afdbdd",
   "metadata": {},
   "source": [
    "\"\"\"\n",
    "Signature: print(*args, sep=' ', end='\\n')\n",
    "Docstring:\n",
    "Prints the values to the console.\n",
    "\n",
    "sep\n",
    "  string inserted between values, default a space.\n",
    "end\n",
    "  string appended after the last value, default a newline.\n",
    "Type:      builtin_function_or_method\n",
    "\n",
    "\"\"\""
   ]
  },
  {
   "cell_type": "code",
   "execution_count": 2,
   "id": "65c3bc73",
   "metadata": {},
   "outputs": [
    {
     "name": "stdout",
     "output_type": "stream",
     "text": [
      "Hello World\n"
     ]
    }
   ],
   "source": [
    "print('Hello World')"
   ]
  },
  {
   "cell_type": "code",
   "execution_count": 3,
   "id": "12b2af3b",
   "metadata": {},
   "outputs": [
    {
     "name": "stdout",
     "output_type": "stream",
     "text": [
      "Welcome to 100DaysOfCodePythonBootcamp\n"
     ]
    }
   ],
   "source": [
    "print('Welcome to 100DaysOfCodePythonBootcamp')"
   ]
  },
  {
   "cell_type": "code",
   "execution_count": 4,
   "id": "9dca9abd",
   "metadata": {},
   "outputs": [
    {
     "name": "stdout",
     "output_type": "stream",
     "text": [
      "Hi Welcome To Python\n"
     ]
    }
   ],
   "source": [
    "print('Hi','Welcome','To','Python')"
   ]
  },
  {
   "cell_type": "code",
   "execution_count": 5,
   "id": "c9d11b9b",
   "metadata": {},
   "outputs": [
    {
     "name": "stdout",
     "output_type": "stream",
     "text": [
      "Hi____Welcome____To____Python\n"
     ]
    }
   ],
   "source": [
    "print('Hi','Welcome','To','Python',sep='____')"
   ]
  },
  {
   "cell_type": "code",
   "execution_count": 6,
   "id": "af386aaa",
   "metadata": {},
   "outputs": [
    {
     "name": "stdout",
     "output_type": "stream",
     "text": [
      "Hi$$$$$$$$Welcome$$$$$$$$To$$$$$$$$Python\n"
     ]
    }
   ],
   "source": [
    "print('Hi','Welcome','To','Python',sep='$$$$$$$$')"
   ]
  },
  {
   "cell_type": "code",
   "execution_count": 7,
   "id": "69765868",
   "metadata": {},
   "outputs": [
    {
     "name": "stdout",
     "output_type": "stream",
     "text": [
      "Hi@@1457gtr6w567902Welcome@@1457gtr6w567902To@@1457gtr6w567902Python\n"
     ]
    }
   ],
   "source": [
    "print('Hi','Welcome','To','Python',sep='@@1457gtr6w567902')"
   ]
  },
  {
   "cell_type": "code",
   "execution_count": 8,
   "id": "41a518c2",
   "metadata": {},
   "outputs": [
    {
     "name": "stdout",
     "output_type": "stream",
     "text": [
      "Hi Welcome To Python\n"
     ]
    }
   ],
   "source": [
    "print('Hi','Welcome','To','Python',end='\\n')"
   ]
  },
  {
   "cell_type": "code",
   "execution_count": 9,
   "id": "30cd2526",
   "metadata": {},
   "outputs": [
    {
     "name": "stdout",
     "output_type": "stream",
     "text": [
      "Hi Welcome To Python----"
     ]
    }
   ],
   "source": [
    "print('Hi','Welcome','To','Python',end='----')"
   ]
  },
  {
   "cell_type": "code",
   "execution_count": 10,
   "id": "19bd1f83",
   "metadata": {},
   "outputs": [
    {
     "name": "stdout",
     "output_type": "stream",
     "text": [
      "Hi Welcome To Python $$$$$"
     ]
    }
   ],
   "source": [
    "print('Hi','Welcome','To','Python',end=' $$$$$')"
   ]
  },
  {
   "cell_type": "code",
   "execution_count": 11,
   "id": "3d168197",
   "metadata": {},
   "outputs": [
    {
     "name": "stdout",
     "output_type": "stream",
     "text": [
      "3\n"
     ]
    }
   ],
   "source": [
    "print(1+2)"
   ]
  },
  {
   "cell_type": "code",
   "execution_count": 12,
   "id": "770eac56",
   "metadata": {},
   "outputs": [
    {
     "name": "stdout",
     "output_type": "stream",
     "text": [
      "1134\n"
     ]
    }
   ],
   "source": [
    "print(345+789)"
   ]
  },
  {
   "cell_type": "code",
   "execution_count": 13,
   "id": "0d393747",
   "metadata": {},
   "outputs": [
    {
     "name": "stdout",
     "output_type": "stream",
     "text": [
      "12\n"
     ]
    }
   ],
   "source": [
    "print('1'+'2')"
   ]
  },
  {
   "cell_type": "code",
   "execution_count": 14,
   "id": "02d0259d",
   "metadata": {},
   "outputs": [
    {
     "name": "stdout",
     "output_type": "stream",
     "text": [
      "69\n"
     ]
    }
   ],
   "source": [
    "print(23*3)"
   ]
  },
  {
   "cell_type": "code",
   "execution_count": 15,
   "id": "db76706a",
   "metadata": {},
   "outputs": [
    {
     "name": "stdout",
     "output_type": "stream",
     "text": [
      "5.0\n"
     ]
    }
   ],
   "source": [
    "print(10/2)"
   ]
  },
  {
   "cell_type": "code",
   "execution_count": 16,
   "id": "e1631810",
   "metadata": {},
   "outputs": [
    {
     "data": {
      "text/plain": [
       "22"
      ]
     },
     "execution_count": 16,
     "metadata": {},
     "output_type": "execute_result"
    }
   ],
   "source": [
    "45-23"
   ]
  },
  {
   "cell_type": "code",
   "execution_count": 17,
   "id": "23b15660",
   "metadata": {},
   "outputs": [
    {
     "data": {
      "text/plain": [
       "166"
      ]
     },
     "execution_count": 17,
     "metadata": {},
     "output_type": "execute_result"
    }
   ],
   "source": [
    "333//2"
   ]
  },
  {
   "cell_type": "code",
   "execution_count": 18,
   "id": "feb1d638",
   "metadata": {},
   "outputs": [
    {
     "data": {
      "text/plain": [
       "4"
      ]
     },
     "execution_count": 18,
     "metadata": {},
     "output_type": "execute_result"
    }
   ],
   "source": [
    "2**2"
   ]
  },
  {
   "cell_type": "code",
   "execution_count": 19,
   "id": "9c801e7b",
   "metadata": {},
   "outputs": [
    {
     "data": {
      "text/plain": [
       "'vasavimittapalli'"
      ]
     },
     "execution_count": 19,
     "metadata": {},
     "output_type": "execute_result"
    }
   ],
   "source": [
    "'vasavi'+'mittapalli'"
   ]
  },
  {
   "cell_type": "code",
   "execution_count": 21,
   "id": "c8e55bab",
   "metadata": {},
   "outputs": [
    {
     "ename": "NameError",
     "evalue": "name 'vasavi' is not defined",
     "output_type": "error",
     "traceback": [
      "\u001b[1;31m---------------------------------------------------------------------------\u001b[0m",
      "\u001b[1;31mNameError\u001b[0m                                 Traceback (most recent call last)",
      "Cell \u001b[1;32mIn[21], line 1\u001b[0m\n\u001b[1;32m----> 1\u001b[0m \u001b[38;5;28mprint\u001b[39m(vasavi)\n",
      "\u001b[1;31mNameError\u001b[0m: name 'vasavi' is not defined"
     ]
    }
   ],
   "source": [
    "print(vasavi)"
   ]
  },
  {
   "cell_type": "code",
   "execution_count": 22,
   "id": "a6b27b39",
   "metadata": {},
   "outputs": [
    {
     "name": "stdout",
     "output_type": "stream",
     "text": [
      "vasavi\n"
     ]
    }
   ],
   "source": [
    "print('vasavi')"
   ]
  },
  {
   "cell_type": "code",
   "execution_count": 23,
   "id": "d1c7e62c",
   "metadata": {},
   "outputs": [
    {
     "data": {
      "text/plain": [
       "'vasavivasavivasavi'"
      ]
     },
     "execution_count": 23,
     "metadata": {},
     "output_type": "execute_result"
    }
   ],
   "source": [
    "'vasavi'*3"
   ]
  },
  {
   "cell_type": "code",
   "execution_count": 24,
   "id": "3ed5814f",
   "metadata": {},
   "outputs": [
    {
     "ename": "SyntaxError",
     "evalue": "incomplete input (720995444.py, line 1)",
     "output_type": "error",
     "traceback": [
      "\u001b[1;36m  Cell \u001b[1;32mIn[24], line 1\u001b[1;36m\u001b[0m\n\u001b[1;33m    print('welcome'\u001b[0m\n\u001b[1;37m                   ^\u001b[0m\n\u001b[1;31mSyntaxError\u001b[0m\u001b[1;31m:\u001b[0m incomplete input\n"
     ]
    }
   ],
   "source": [
    "print('welcome'"
   ]
  },
  {
   "cell_type": "code",
   "execution_count": 25,
   "id": "a02c9ee1",
   "metadata": {},
   "outputs": [
    {
     "name": "stdout",
     "output_type": "stream",
     "text": [
      "Hello world!\n",
      "Hello world!\n",
      "Hello world!\n"
     ]
    }
   ],
   "source": [
    "print(\"Hello world!\")\n",
    "print('Hello world!')\n",
    "print(\"Hello world!\")"
   ]
  },
  {
   "cell_type": "code",
   "execution_count": 26,
   "id": "7adee964",
   "metadata": {},
   "outputs": [
    {
     "name": "stdout",
     "output_type": "stream",
     "text": [
      "Hello world!\n",
      "Hello world!\n",
      "Hello world!\n"
     ]
    }
   ],
   "source": [
    "print('Hello world!\\nHello world!\\nHello world!')"
   ]
  },
  {
   "cell_type": "code",
   "execution_count": 28,
   "id": "bce123bb",
   "metadata": {},
   "outputs": [
    {
     "name": "stdout",
     "output_type": "stream",
     "text": [
      "HelloWelcome\n",
      "Hello welcome\n",
      "Hello welcome\n",
      "Hello welcome\n"
     ]
    }
   ],
   "source": [
    "print('Hello'+'Welcome')\n",
    "print('Hello '+'welcome')\n",
    "print('Hello'+' welcome')\n",
    "print('Hello'+' '+'welcome')"
   ]
  },
  {
   "cell_type": "markdown",
   "id": "2c998fcc",
   "metadata": {},
   "source": [
    "Write a program that uses print statements to print the following recipe into the Output console. The text to print is already there, you just need to make it into code. Your code should print all five lines exactly the same as the example output below. Make sure that you don't change any of these existing text as everything, punctuation and casing all need to match!"
   ]
  },
  {
   "cell_type": "markdown",
   "id": "2a170c13",
   "metadata": {},
   "source": [
    "- print(\"1. Mix 500g of Flour, 10g Yeast and 300ml Water in a bowl.\"\n",
    "- print(2. Knead the dough for 10 minutes.\")\n",
    "- pint(\"3. Add 3g of Salt.\")\n",
    "- print(\"4. Leave to rise for 2 hours. \")\n",
    "- print(\". Bake at 200 Degrees C for 30 minutes.\")"
   ]
  },
  {
   "cell_type": "code",
   "execution_count": 30,
   "id": "bf72a4b1",
   "metadata": {},
   "outputs": [
    {
     "name": "stdout",
     "output_type": "stream",
     "text": [
      "1. Mix 500g of Flour, 10g Yeast and 300ml Water in a bowl.\n",
      "2. Knead the dough for 10 minutes.\n",
      "3. Add 3g of Salt.\n",
      "4. Leave to rise for 2 hours.\n",
      "5. Bake at 200 degrees C for 30 minutes.\n"
     ]
    }
   ],
   "source": [
    "print(\"1. Mix 500g of Flour, 10g Yeast and 300ml Water in a bowl.\")\n",
    "print(\"2. Knead the dough for 10 minutes.\")\n",
    "print(\"3. Add 3g of Salt.\")\n",
    "print(\"4. Leave to rise for 2 hours.\")\n",
    "print(\"5. Bake at 200 degrees C for 30 minutes.\")"
   ]
  },
  {
   "cell_type": "markdown",
   "id": "b93b8fac",
   "metadata": {},
   "source": [
    "### input()"
   ]
  },
  {
   "cell_type": "code",
   "execution_count": 31,
   "id": "820746ec",
   "metadata": {},
   "outputs": [
    {
     "name": "stdout",
     "output_type": "stream",
     "text": [
      "What is your name?vasavi\n"
     ]
    },
    {
     "data": {
      "text/plain": [
       "'vasavi'"
      ]
     },
     "execution_count": 31,
     "metadata": {},
     "output_type": "execute_result"
    }
   ],
   "source": [
    "input('What is your name?')"
   ]
  },
  {
   "cell_type": "code",
   "execution_count": 32,
   "id": "287b2d74",
   "metadata": {},
   "outputs": [
    {
     "name": "stdout",
     "output_type": "stream",
     "text": [
      "What is your age?22\n"
     ]
    },
    {
     "data": {
      "text/plain": [
       "'22'"
      ]
     },
     "execution_count": 32,
     "metadata": {},
     "output_type": "execute_result"
    }
   ],
   "source": [
    "input('What is your age?')"
   ]
  },
  {
   "cell_type": "code",
   "execution_count": 34,
   "id": "25ae0693",
   "metadata": {},
   "outputs": [
    {
     "name": "stdout",
     "output_type": "stream",
     "text": [
      "What is your name?vasavi\n"
     ]
    },
    {
     "data": {
      "text/plain": [
       "'Hello vasavi'"
      ]
     },
     "execution_count": 34,
     "metadata": {},
     "output_type": "execute_result"
    }
   ],
   "source": [
    "'Hello ' + input('What is your name?')"
   ]
  },
  {
   "cell_type": "markdown",
   "id": "b3205782",
   "metadata": {},
   "source": [
    "Check the length of the user input\n",
    "Using what you have learnt about the len() function and the input() function. Try to print out the number of characters in the user input. Write everything in just 1 line of code."
   ]
  },
  {
   "cell_type": "code",
   "execution_count": 35,
   "id": "460db4e4",
   "metadata": {},
   "outputs": [
    {
     "name": "stdout",
     "output_type": "stream",
     "text": [
      "What is your name?100Daysofcodepythonbootcamp\n"
     ]
    },
    {
     "data": {
      "text/plain": [
       "27"
      ]
     },
     "execution_count": 35,
     "metadata": {},
     "output_type": "execute_result"
    }
   ],
   "source": [
    "len(input('What is your name?'))"
   ]
  },
  {
   "cell_type": "markdown",
   "id": "7889b715",
   "metadata": {},
   "source": [
    "### Variables"
   ]
  },
  {
   "cell_type": "markdown",
   "id": "b2549b34",
   "metadata": {},
   "source": [
    "Python Variable is containers that store values. Python is not “statically typed”. We do not need to declare variables before using them or declare their type. A variable is created the moment we first assign a value to it. A Python variable is a name given to a memory location. It is the basic unit of storage in a program"
   ]
  },
  {
   "cell_type": "code",
   "execution_count": 39,
   "id": "5046cd81",
   "metadata": {},
   "outputs": [
    {
     "name": "stdout",
     "output_type": "stream",
     "text": [
      "Variables\n"
     ]
    }
   ],
   "source": [
    "Var = \"Variables\"\n",
    "print(Var)"
   ]
  },
  {
   "cell_type": "markdown",
   "id": "f53fb13f",
   "metadata": {},
   "source": [
    "The value stored in a variable can be changed during program execution.\n",
    "A Variables in Python is only a name given to a memory location, all the operations done on the variable effects that memory location."
   ]
  },
  {
   "cell_type": "code",
   "execution_count": 40,
   "id": "a6ad169b",
   "metadata": {},
   "outputs": [
    {
     "data": {
      "text/plain": [
       "'python'"
      ]
     },
     "execution_count": 40,
     "metadata": {},
     "output_type": "execute_result"
    }
   ],
   "source": [
    "var='python'\n",
    "var"
   ]
  },
  {
   "cell_type": "markdown",
   "id": "1bcb210c",
   "metadata": {},
   "source": [
    "#### Rules for Python variables\n",
    "- A Python variable name must start with a letter or the underscore character.\n",
    "- A Python variable name cannot start with a number.\n",
    "- A Python variable name can only contain alpha-numeric characters and underscores (A-z, 0-9, and _ ).\n",
    "- Variable in Python names are case-sensitive (name, Name, and NAME are three different variables).\n",
    "- The reserved words(keywords) in Python cannot be used to name the variable in Python"
   ]
  },
  {
   "cell_type": "markdown",
   "id": "f5018510",
   "metadata": {},
   "source": [
    "Python Keywords are some predefined and reserved words in Python that have special meanings. Keywords are used to define the syntax of the coding. The keyword cannot be used as an identifier, function, or variable name. All the keywords in Python are written in lowercase except True and False."
   ]
  },
  {
   "cell_type": "code",
   "execution_count": 43,
   "id": "78dbcc93",
   "metadata": {},
   "outputs": [
    {
     "name": "stdout",
     "output_type": "stream",
     "text": [
      "['False', 'None', 'True', 'and', 'as', 'assert', 'async', 'await', 'break', 'class', 'continue', 'def', 'del', 'elif', 'else', 'except', 'finally', 'for', 'from', 'global', 'if', 'import', 'in', 'is', 'lambda', 'nonlocal', 'not', 'or', 'pass', 'raise', 'return', 'try', 'while', 'with', 'yield']\n",
      "35\n"
     ]
    }
   ],
   "source": [
    "import keyword\n",
    "print(keyword.kwlist)\n",
    "print(len(keyword.kwlist))"
   ]
  },
  {
   "cell_type": "code",
   "execution_count": 44,
   "id": "0bcdafba",
   "metadata": {},
   "outputs": [
    {
     "name": "stdout",
     "output_type": "stream",
     "text": [
      "Hello\n"
     ]
    }
   ],
   "source": [
    "print('Hello')"
   ]
  },
  {
   "cell_type": "code",
   "execution_count": 45,
   "id": "e12369b3",
   "metadata": {},
   "outputs": [
    {
     "name": "stdout",
     "output_type": "stream",
     "text": [
      "This is \n",
      "first line\n"
     ]
    }
   ],
   "source": [
    "print('This is \\nfirst line')"
   ]
  },
  {
   "cell_type": "code",
   "execution_count": 46,
   "id": "67398fa0",
   "metadata": {},
   "outputs": [
    {
     "name": "stdout",
     "output_type": "stream",
     "text": [
      "This is \tfirst line\n"
     ]
    }
   ],
   "source": [
    "print('This is \\tfirst line')"
   ]
  },
  {
   "cell_type": "code",
   "execution_count": 47,
   "id": "1609282e",
   "metadata": {},
   "outputs": [
    {
     "name": "stdout",
     "output_type": "stream",
     "text": [
      "This is \\nfirst line\n"
     ]
    }
   ],
   "source": [
    "print('This is \\\\nfirst line')"
   ]
  },
  {
   "cell_type": "code",
   "execution_count": 48,
   "id": "c5d4fa4e",
   "metadata": {},
   "outputs": [
    {
     "name": "stdout",
     "output_type": "stream",
     "text": [
      "HiHiHi\n"
     ]
    }
   ],
   "source": [
    "print(3*'Hi')"
   ]
  },
  {
   "cell_type": "code",
   "execution_count": 49,
   "id": "c08d5396",
   "metadata": {},
   "outputs": [
    {
     "data": {
      "text/plain": [
       "2"
      ]
     },
     "execution_count": 49,
     "metadata": {},
     "output_type": "execute_result"
    }
   ],
   "source": [
    "a,b=2,4\n",
    "a"
   ]
  },
  {
   "cell_type": "code",
   "execution_count": 50,
   "id": "8824d642",
   "metadata": {},
   "outputs": [
    {
     "data": {
      "text/plain": [
       "4"
      ]
     },
     "execution_count": 50,
     "metadata": {},
     "output_type": "execute_result"
    }
   ],
   "source": [
    "b"
   ]
  },
  {
   "cell_type": "code",
   "execution_count": 51,
   "id": "2a23779c",
   "metadata": {},
   "outputs": [
    {
     "name": "stdout",
     "output_type": "stream",
     "text": [
      "Value-10\n"
     ]
    }
   ],
   "source": [
    "x=10\n",
    "print('Value-%i'%x)  # %i,%d integer"
   ]
  },
  {
   "cell_type": "code",
   "execution_count": 52,
   "id": "f89a1f2d",
   "metadata": {},
   "outputs": [
    {
     "name": "stdout",
     "output_type": "stream",
     "text": [
      "Value-10\n"
     ]
    }
   ],
   "source": [
    "x=10\n",
    "print('Value-%d'%x)"
   ]
  },
  {
   "cell_type": "code",
   "execution_count": 53,
   "id": "47200f2b",
   "metadata": {},
   "outputs": [
    {
     "name": "stdout",
     "output_type": "stream",
     "text": [
      "Hi vasavi\n"
     ]
    }
   ],
   "source": [
    "name='vasavi'\n",
    "print('Hi %s' %name)"
   ]
  },
  {
   "cell_type": "code",
   "execution_count": 54,
   "id": "519eebbc",
   "metadata": {},
   "outputs": [
    {
     "name": "stdout",
     "output_type": "stream",
     "text": [
      "Hi     vasavi\n"
     ]
    }
   ],
   "source": [
    "name='vasavi'\n",
    "print('Hi %10s' %name)"
   ]
  },
  {
   "cell_type": "code",
   "execution_count": 55,
   "id": "2b3877bd",
   "metadata": {},
   "outputs": [
    {
     "name": "stdout",
     "output_type": "stream",
     "text": [
      "Hi vasavi    \n"
     ]
    }
   ],
   "source": [
    "name='vasavi'\n",
    "print('Hi %-10s' %name)"
   ]
  },
  {
   "cell_type": "code",
   "execution_count": 56,
   "id": "71b2a936",
   "metadata": {},
   "outputs": [
    {
     "name": "stdout",
     "output_type": "stream",
     "text": [
      "Value- 123.456780\n"
     ]
    }
   ],
   "source": [
    "n=123.45678\n",
    "print('Value- %f'%n)"
   ]
  },
  {
   "cell_type": "code",
   "execution_count": 60,
   "id": "e182fb8c",
   "metadata": {},
   "outputs": [
    {
     "name": "stdout",
     "output_type": "stream",
     "text": [
      "Value- 123.46\n"
     ]
    }
   ],
   "source": [
    "n=123.45678\n",
    "print('Value- %.2f' %n)"
   ]
  },
  {
   "cell_type": "code",
   "execution_count": 61,
   "id": "b73e9b17",
   "metadata": {},
   "outputs": [
    {
     "name": "stdout",
     "output_type": "stream",
     "text": [
      "numbers are 1 and 2\n"
     ]
    }
   ],
   "source": [
    "n1,n2=1,2\n",
    "print('numbers are {0} and {1}'.format(n1,n2))"
   ]
  },
  {
   "cell_type": "code",
   "execution_count": 62,
   "id": "dca074ab",
   "metadata": {},
   "outputs": [
    {
     "name": "stdout",
     "output_type": "stream",
     "text": [
      "numbers are 2 and 1\n"
     ]
    }
   ],
   "source": [
    "n1,n2=1,2\n",
    "print('numbers are {1} and {0}'.format(n1,n2))"
   ]
  },
  {
   "cell_type": "code",
   "execution_count": 63,
   "id": "82c56aab",
   "metadata": {},
   "outputs": [
    {
     "name": "stdout",
     "output_type": "stream",
     "text": [
      "vasavi\n"
     ]
    },
    {
     "data": {
      "text/plain": [
       "'vasavi'"
      ]
     },
     "execution_count": 63,
     "metadata": {},
     "output_type": "execute_result"
    }
   ],
   "source": [
    "s=input()\n",
    "s"
   ]
  },
  {
   "cell_type": "code",
   "execution_count": 64,
   "id": "f99651e5",
   "metadata": {},
   "outputs": [
    {
     "name": "stdout",
     "output_type": "stream",
     "text": [
      "123\n"
     ]
    },
    {
     "data": {
      "text/plain": [
       "'123'"
      ]
     },
     "execution_count": 64,
     "metadata": {},
     "output_type": "execute_result"
    }
   ],
   "source": [
    "n=input()\n",
    "n\n"
   ]
  },
  {
   "cell_type": "code",
   "execution_count": 65,
   "id": "293b85e6",
   "metadata": {},
   "outputs": [
    {
     "data": {
      "text/plain": [
       "123"
      ]
     },
     "execution_count": 65,
     "metadata": {},
     "output_type": "execute_result"
    }
   ],
   "source": [
    "int(n)"
   ]
  },
  {
   "cell_type": "code",
   "execution_count": 66,
   "id": "b3e5aef8",
   "metadata": {},
   "outputs": [
    {
     "name": "stdout",
     "output_type": "stream",
     "text": [
      "123\n"
     ]
    },
    {
     "data": {
      "text/plain": [
       "123"
      ]
     },
     "execution_count": 66,
     "metadata": {},
     "output_type": "execute_result"
    }
   ],
   "source": [
    "n=int(input())\n",
    "n"
   ]
  },
  {
   "cell_type": "code",
   "execution_count": 67,
   "id": "987c6787",
   "metadata": {},
   "outputs": [
    {
     "name": "stdout",
     "output_type": "stream",
     "text": [
      "12.34\n"
     ]
    },
    {
     "data": {
      "text/plain": [
       "12.34"
      ]
     },
     "execution_count": 67,
     "metadata": {},
     "output_type": "execute_result"
    }
   ],
   "source": [
    "n1=float(input())\n",
    "n1"
   ]
  },
  {
   "cell_type": "markdown",
   "id": "d1a72186",
   "metadata": {},
   "source": [
    "Variables\n",
    "We have 2 variables glass1 and glass2. glass1 contains milk and glass2 contains juice. Write 3 lines of code to switch the contents of the variables. You are not allowed to type the words \"milk\" or \"juice\". You are only allowed to use variables to solve this exercise."
   ]
  },
  {
   "cell_type": "code",
   "execution_count": 36,
   "id": "c0c4abd7",
   "metadata": {},
   "outputs": [
    {
     "name": "stdout",
     "output_type": "stream",
     "text": [
      "juice\n",
      "milk\n"
     ]
    }
   ],
   "source": [
    "glass1 = \"milk\"\n",
    "glass2 = \"juice\"\n",
    "\n",
    "glass1,glass2=glass2,glass1\n",
    "print(glass1)\n",
    "print(glass2)"
   ]
  },
  {
   "cell_type": "markdown",
   "id": "521b1506",
   "metadata": {},
   "source": [
    "## Day-1 BAND NAME GENERATOR PROJECT\n",
    "\n",
    "- Create a greeting for your program.\n",
    "- Ask the user for the city that they grew up in and store it in a variable.\n",
    "- Ask the user for the name of a pet and store it in a variable.\n",
    "- Combine the name of their city and pet and show them their band name."
   ]
  },
  {
   "cell_type": "code",
   "execution_count": 68,
   "id": "4a9d2e8e",
   "metadata": {},
   "outputs": [
    {
     "name": "stdout",
     "output_type": "stream",
     "text": [
      "Welcome to the Band Name Generator.\n",
      "What is the name of the city you grew up?bristol\n",
      "What is your pet name?rabbit\n",
      "Your band name could be:  bristol rabbit\n"
     ]
    }
   ],
   "source": [
    "print('Welcome to the Band Name Generator.')\n",
    "city=input('What is the name of the city you grew up?')\n",
    "pet_name=input('What is your pet name?')\n",
    "band_name=city+' '+pet_name\n",
    "print('Your band name could be: ',band_name)"
   ]
  },
  {
   "cell_type": "code",
   "execution_count": null,
   "id": "a0333797",
   "metadata": {},
   "outputs": [],
   "source": []
  }
 ],
 "metadata": {
  "kernelspec": {
   "display_name": "Python 3 (ipykernel)",
   "language": "python",
   "name": "python3"
  },
  "language_info": {
   "codemirror_mode": {
    "name": "ipython",
    "version": 3
   },
   "file_extension": ".py",
   "mimetype": "text/x-python",
   "name": "python",
   "nbconvert_exporter": "python",
   "pygments_lexer": "ipython3",
   "version": "3.11.5"
  }
 },
 "nbformat": 4,
 "nbformat_minor": 5
}
