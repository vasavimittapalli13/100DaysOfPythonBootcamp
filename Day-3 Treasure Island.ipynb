{
 "cells": [
  {
   "cell_type": "markdown",
   "id": "9f3b9397",
   "metadata": {},
   "source": [
    "#### control flow "
   ]
  },
  {
   "cell_type": "code",
   "execution_count": 5,
   "id": "98772070",
   "metadata": {},
   "outputs": [
    {
     "name": "stdout",
     "output_type": "stream",
     "text": [
      "Welcome to RollerCoaster\n",
      "What is your height in cm? 120\n",
      "You Can ride the roller coaster\n"
     ]
    }
   ],
   "source": [
    "print('Welcome to RollerCoaster')\n",
    "height=int(input('What is your height in cm? '))\n",
    "if height>=120:\n",
    "    print('You Can ride the roller coaster')\n",
    "else:\n",
    "    print('Sorry, You Can not ride the roller coaster')"
   ]
  },
  {
   "cell_type": "code",
   "execution_count": 7,
   "id": "42e35c31",
   "metadata": {},
   "outputs": [
    {
     "data": {
      "text/plain": [
       "0"
      ]
     },
     "execution_count": 7,
     "metadata": {},
     "output_type": "execute_result"
    }
   ],
   "source": [
    "10%2  #gives remiainder"
   ]
  },
  {
   "cell_type": "code",
   "execution_count": 8,
   "id": "5fcc395e",
   "metadata": {},
   "outputs": [
    {
     "data": {
      "text/plain": [
       "1"
      ]
     },
     "execution_count": 8,
     "metadata": {},
     "output_type": "execute_result"
    }
   ],
   "source": [
    "9%2"
   ]
  },
  {
   "cell_type": "code",
   "execution_count": 9,
   "id": "f96ed693",
   "metadata": {},
   "outputs": [
    {
     "data": {
      "text/plain": [
       "0"
      ]
     },
     "execution_count": 9,
     "metadata": {},
     "output_type": "execute_result"
    }
   ],
   "source": [
    "12%2"
   ]
  },
  {
   "cell_type": "code",
   "execution_count": 10,
   "id": "144636ac",
   "metadata": {},
   "outputs": [
    {
     "data": {
      "text/plain": [
       "1"
      ]
     },
     "execution_count": 10,
     "metadata": {},
     "output_type": "execute_result"
    }
   ],
   "source": [
    "7%2"
   ]
  },
  {
   "cell_type": "code",
   "execution_count": 11,
   "id": "5b482e6b",
   "metadata": {},
   "outputs": [
    {
     "name": "stdout",
     "output_type": "stream",
     "text": [
      "check a number is even or odd : 22\n",
      "even number\n"
     ]
    }
   ],
   "source": [
    "even_odd=int(input('check a number is even or odd : '))\n",
    "if even_odd%2==0:\n",
    "    print('even number')\n",
    "else:\n",
    "    print('odd number')"
   ]
  },
  {
   "cell_type": "code",
   "execution_count": 1,
   "id": "fa0d1536",
   "metadata": {},
   "outputs": [
    {
     "name": "stdout",
     "output_type": "stream",
     "text": [
      "Welcome to RollerCoaster\n",
      "What is your height in cm? 125\n",
      "You Can ride the roller coaster\n",
      "Enter your age: 22\n",
      "12$ ticket\n"
     ]
    }
   ],
   "source": [
    "print('Welcome to RollerCoaster')\n",
    "height=int(input('What is your height in cm? '))\n",
    "if height>=120:\n",
    "    print('You Can ride the roller coaster')\n",
    "    age=int(input('Enter your age: '))\n",
    "    if age<=18:\n",
    "          print('7$ ticket')\n",
    "    else:\n",
    "          print('12$ ticket')\n",
    "else:\n",
    "    print('Sorry, You Can not ride the roller coaster')"
   ]
  },
  {
   "cell_type": "code",
   "execution_count": 4,
   "id": "66412de6",
   "metadata": {},
   "outputs": [
    {
     "name": "stdout",
     "output_type": "stream",
     "text": [
      "Welcome to RollerCoaster\n",
      "What is your height in cm? 125\n",
      "You Can ride the roller coaster\n",
      "Enter your age: 10\n",
      "5$ ticket\n"
     ]
    }
   ],
   "source": [
    "print('Welcome to RollerCoaster')\n",
    "height=int(input('What is your height in cm? '))\n",
    "if height>=120:\n",
    "    print('You Can ride the roller coaster')\n",
    "    age=int(input('Enter your age: '))\n",
    "    if age<=12:\n",
    "          print('5$ ticket')\n",
    "    elif 12<=age<=18:\n",
    "        print('7$ ticket')\n",
    "    else:\n",
    "          print('12$ ticket')\n",
    "else:\n",
    "    print('Sorry, You Can not ride the roller coaster')"
   ]
  },
  {
   "cell_type": "code",
   "execution_count": 7,
   "id": "6ea3397c",
   "metadata": {},
   "outputs": [
    {
     "name": "stdout",
     "output_type": "stream",
     "text": [
      "Enter your height: 1.5\n",
      "Enter your weight: 85\n",
      "you're overweight\n"
     ]
    }
   ],
   "source": [
    "height=float(input('Enter your height: '))\n",
    "weight=float(input('Enter your weight: '))\n",
    "BMI=weight/(height*2)\n",
    "if BMI<18.5:\n",
    "    print(\"you're underweight\")\n",
    "elif 18.5<=BMI<25:\n",
    "    print(\"You'r normal weight\")\n",
    "else:\n",
    "    print(\"you're overweight\")"
   ]
  },
  {
   "cell_type": "code",
   "execution_count": 14,
   "id": "19fdff01",
   "metadata": {},
   "outputs": [
    {
     "name": "stdout",
     "output_type": "stream",
     "text": [
      "Welcome to RollerCoaster\n",
      "What is your height in cm? 126\n",
      "You Can ride the roller coaster\n",
      "Enter your age: 11\n",
      "5$ ticket\n",
      "Do you want a photo? Yes/No :no\n",
      "Total bill:5\n"
     ]
    }
   ],
   "source": [
    "print('Welcome to RollerCoaster')\n",
    "height=int(input('What is your height in cm? '))\n",
    "bill=0\n",
    "if height>=120:\n",
    "    print('You Can ride the roller coaster')\n",
    "    age=int(input('Enter your age: '))\n",
    "    if age<=12:\n",
    "        print('5$ ticket')\n",
    "        bill=bill+5\n",
    "    elif 12<=age<=18:\n",
    "        print('7$ ticket')\n",
    "        bill=bill+7\n",
    "    else:\n",
    "        print('12$ ticket')\n",
    "        bill=bill+12\n",
    "    photo=input('Do you want a photo? Yes/No :').lower()\n",
    "    if photo=='yes':\n",
    "        bill=bill+3\n",
    "    print(f'Total bill:{bill}')\n",
    "    \n",
    "else:\n",
    "    print('Sorry, You Can not ride the roller coaster')\n",
    "\n",
    "\n"
   ]
  },
  {
   "cell_type": "markdown",
   "id": "4d1b0acb",
   "metadata": {},
   "source": [
    "#### PIzza Order"
   ]
  },
  {
   "cell_type": "code",
   "execution_count": 25,
   "id": "75a08d5e",
   "metadata": {},
   "outputs": [
    {
     "name": "stdout",
     "output_type": "stream",
     "text": [
      "Welcome to Python Pizza Deliveries\n",
      "What size pizza do you want? S,M or L: l\n",
      "Do you want pepporoni on your pizza? Y or N: y\n",
      "Do you want extra cheese? Y or N: y\n",
      "Your final bill is 29\n"
     ]
    }
   ],
   "source": [
    "print('Welcome to Python Pizza Deliveries')\n",
    "size=input('What size pizza do you want? S,M or L: ').upper()\n",
    "pepporoni=input('Do you want pepporoni on your pizza? Y or N: ').upper()\n",
    "extra_cheese=input('Do you want extra cheese? Y or N: ').upper()\n",
    "bill=0\n",
    "if size=='S':\n",
    "    bill=bill+15\n",
    "    if pepporoni=='Y':\n",
    "        bill=bill+2\n",
    "elif size=='M':\n",
    "    bill=bill+20\n",
    "    if pepporoni=='Y':\n",
    "        bill=bill+3\n",
    "else:\n",
    "    bill=bill+25\n",
    "    if pepporoni=='Y':\n",
    "        bill=bill+3\n",
    "if extra_cheese=='Y':\n",
    "    bill=bill+1\n",
    "\n",
    "print(f'Your final bill is {bill}')"
   ]
  },
  {
   "cell_type": "code",
   "execution_count": 27,
   "id": "454e9c24",
   "metadata": {},
   "outputs": [
    {
     "name": "stdout",
     "output_type": "stream",
     "text": [
      "Welcome to Python Pizza Deliveries\n",
      "What size pizza do you want? S,M or L: s\n",
      "Do you want pepporoni on your pizza? Y or N: y\n",
      "Do you want extra cheese? Y or N: y\n",
      "18\n"
     ]
    }
   ],
   "source": [
    "print('Welcome to Python Pizza Deliveries')\n",
    "size=input('What size pizza do you want? S,M or L: ').upper()\n",
    "pepporoni=input('Do you want pepporoni on your pizza? Y or N: ').upper()\n",
    "extra_cheese=input('Do you want extra cheese? Y or N: ').upper()\n",
    "bill=0\n",
    "if size=='S':\n",
    "    bill +=15\n",
    "elif size=='M':\n",
    "    bill += 20\n",
    "elif size=='L':\n",
    "    bill +=25\n",
    "else:\n",
    "    print('wrong inputs')\n",
    "    \n",
    "if pepporoni=='Y':\n",
    "    if size=='S':\n",
    "        bill+=2\n",
    "    else:\n",
    "        bill+=3\n",
    "if extra_cheese=='Y':\n",
    "    bill+=1\n",
    "print(bill)"
   ]
  },
  {
   "cell_type": "markdown",
   "id": "9b238d73",
   "metadata": {},
   "source": [
    "### Treasure Island"
   ]
  },
  {
   "cell_type": "code",
   "execution_count": 37,
   "id": "75a4b1d5",
   "metadata": {},
   "outputs": [
    {
     "name": "stdout",
     "output_type": "stream",
     "text": [
      "Welcome to Treasure Island.\n",
      "Your mission is to find the treasure.\n",
      "you're at cross road. Where do you want to go? Type 'left' or 'right': left\n",
      "you've come to a lake. There is an island middle of the lake. Type 'wait' to wait for a boat. Type 'swim' to swim acrosswait\n",
      "You arrive at the island unharmed. There is a house with 3 doors. One red, one yellow and one blue. Which color do you choose? yellow\n",
      "You found the treasure. You Win!\n"
     ]
    }
   ],
   "source": [
    "print('Welcome to Treasure Island.')\n",
    "print('Your mission is to find the treasure.')\n",
    "choice1=input(\"you're at cross road. Where do you want to go? Type 'left' or 'right': \").lower()\n",
    "if choice1=='left':\n",
    "    choice2=input(\"you've come to a lake. There is an island middle of the lake. Type 'wait' to wait for a boat. Type 'swim' to swim across\").lower()\n",
    "    if choice2=='wait':\n",
    "        choice3=input('You arrive at the island unharmed. There is a house with 3 doors. One red, one yellow and one blue. Which color do you choose? ').lower()\n",
    "        if choice3=='red':\n",
    "            print(\"It's a room full of fire. Game Over\")\n",
    "        elif choice3=='blue':\n",
    "            print(\"You enter a room of beasts. Game Over.\")\n",
    "        elif choice3=='yellow':\n",
    "            print(\"You found the treasure. You Win!\")\n",
    "        else:\n",
    "            print(\"You chose a door that doesn't exist. Game Over.\")\n",
    "    else:\n",
    "        print(\"You got attacked by an angry trout. Game Over.\")\n",
    "else:\n",
    "    print(\"You fell in to a hole. Game Over.\")"
   ]
  },
  {
   "cell_type": "code",
   "execution_count": null,
   "id": "c8688adf",
   "metadata": {},
   "outputs": [],
   "source": []
  }
 ],
 "metadata": {
  "kernelspec": {
   "display_name": "Python 3 (ipykernel)",
   "language": "python",
   "name": "python3"
  },
  "language_info": {
   "codemirror_mode": {
    "name": "ipython",
    "version": 3
   },
   "file_extension": ".py",
   "mimetype": "text/x-python",
   "name": "python",
   "nbconvert_exporter": "python",
   "pygments_lexer": "ipython3",
   "version": "3.11.5"
  }
 },
 "nbformat": 4,
 "nbformat_minor": 5
}
