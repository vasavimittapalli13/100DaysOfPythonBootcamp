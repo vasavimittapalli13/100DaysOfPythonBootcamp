{
 "cells": [
  {
   "cell_type": "code",
   "execution_count": 1,
   "id": "cb884a97",
   "metadata": {},
   "outputs": [
    {
     "name": "stdout",
     "output_type": "stream",
     "text": [
      "5\n"
     ]
    }
   ],
   "source": [
    "print(len('Hello'))"
   ]
  },
  {
   "cell_type": "code",
   "execution_count": 2,
   "id": "64311d0a",
   "metadata": {},
   "outputs": [
    {
     "ename": "TypeError",
     "evalue": "object of type 'int' has no len()",
     "output_type": "error",
     "traceback": [
      "\u001b[1;31m---------------------------------------------------------------------------\u001b[0m",
      "\u001b[1;31mTypeError\u001b[0m                                 Traceback (most recent call last)",
      "Cell \u001b[1;32mIn[2], line 1\u001b[0m\n\u001b[1;32m----> 1\u001b[0m \u001b[38;5;28mprint\u001b[39m(\u001b[38;5;28mlen\u001b[39m(\u001b[38;5;241m1234\u001b[39m))\n",
      "\u001b[1;31mTypeError\u001b[0m: object of type 'int' has no len()"
     ]
    }
   ],
   "source": [
    "print(len(1234))"
   ]
  },
  {
   "cell_type": "markdown",
   "id": "e85c174e",
   "metadata": {},
   "source": [
    "Data Types:\n",
    "\n",
    "strings\n",
    "\n",
    "integer\n",
    "\n",
    "boolean"
   ]
  },
  {
   "cell_type": "code",
   "execution_count": 4,
   "id": "75c74dba",
   "metadata": {},
   "outputs": [
    {
     "data": {
      "text/plain": [
       "'Hello'"
      ]
     },
     "execution_count": 4,
     "metadata": {},
     "output_type": "execute_result"
    }
   ],
   "source": [
    "'Hello'"
   ]
  },
  {
   "cell_type": "code",
   "execution_count": 5,
   "id": "3517a38d",
   "metadata": {},
   "outputs": [
    {
     "data": {
      "text/plain": [
       "'vasavi'"
      ]
     },
     "execution_count": 5,
     "metadata": {},
     "output_type": "execute_result"
    }
   ],
   "source": [
    "\"vasavi\""
   ]
  },
  {
   "cell_type": "code",
   "execution_count": 6,
   "id": "15da6321",
   "metadata": {},
   "outputs": [
    {
     "data": {
      "text/plain": [
       "'Python'"
      ]
     },
     "execution_count": 6,
     "metadata": {},
     "output_type": "execute_result"
    }
   ],
   "source": [
    "'Python'"
   ]
  },
  {
   "cell_type": "code",
   "execution_count": 7,
   "id": "0a7bab34",
   "metadata": {},
   "outputs": [
    {
     "data": {
      "text/plain": [
       "'H'"
      ]
     },
     "execution_count": 7,
     "metadata": {},
     "output_type": "execute_result"
    }
   ],
   "source": [
    "'Hello'[0]  #subscripting--accessing values "
   ]
  },
  {
   "cell_type": "code",
   "execution_count": 8,
   "id": "932671fb",
   "metadata": {},
   "outputs": [
    {
     "data": {
      "text/plain": [
       "'l'"
      ]
     },
     "execution_count": 8,
     "metadata": {},
     "output_type": "execute_result"
    }
   ],
   "source": [
    "'Hello'[2]"
   ]
  },
  {
   "cell_type": "code",
   "execution_count": 9,
   "id": "91c8d6dc",
   "metadata": {},
   "outputs": [
    {
     "data": {
      "text/plain": [
       "'o'"
      ]
     },
     "execution_count": 9,
     "metadata": {},
     "output_type": "execute_result"
    }
   ],
   "source": [
    "'Hello'[-1]"
   ]
  },
  {
   "cell_type": "code",
   "execution_count": 12,
   "id": "2ffd15cc",
   "metadata": {},
   "outputs": [
    {
     "ename": "IndexError",
     "evalue": "string index out of range",
     "output_type": "error",
     "traceback": [
      "\u001b[1;31m---------------------------------------------------------------------------\u001b[0m",
      "\u001b[1;31mIndexError\u001b[0m                                Traceback (most recent call last)",
      "Cell \u001b[1;32mIn[12], line 1\u001b[0m\n\u001b[1;32m----> 1\u001b[0m \u001b[38;5;124m'\u001b[39m\u001b[38;5;124mHello\u001b[39m\u001b[38;5;124m'\u001b[39m[\u001b[38;5;241m7\u001b[39m]\n",
      "\u001b[1;31mIndexError\u001b[0m: string index out of range"
     ]
    }
   ],
   "source": [
    "'Hello'[7]"
   ]
  },
  {
   "cell_type": "code",
   "execution_count": 13,
   "id": "b8107ec6",
   "metadata": {},
   "outputs": [
    {
     "data": {
      "text/plain": [
       "'123345'"
      ]
     },
     "execution_count": 13,
     "metadata": {},
     "output_type": "execute_result"
    }
   ],
   "source": [
    "'123'+'345'  #strings- concatenate "
   ]
  },
  {
   "cell_type": "code",
   "execution_count": 15,
   "id": "c0f23234",
   "metadata": {},
   "outputs": [
    {
     "data": {
      "text/plain": [
       "468"
      ]
     },
     "execution_count": 15,
     "metadata": {},
     "output_type": "execute_result"
    }
   ],
   "source": [
    "123+345  #int- add"
   ]
  },
  {
   "cell_type": "code",
   "execution_count": 16,
   "id": "9d6735a8",
   "metadata": {},
   "outputs": [
    {
     "data": {
      "text/plain": [
       "'pythonprogram'"
      ]
     },
     "execution_count": 16,
     "metadata": {},
     "output_type": "execute_result"
    }
   ],
   "source": [
    "'python'+'program'"
   ]
  },
  {
   "cell_type": "code",
   "execution_count": 17,
   "id": "ff3def32",
   "metadata": {},
   "outputs": [
    {
     "name": "stdout",
     "output_type": "stream",
     "text": [
      "123 456 789\n"
     ]
    }
   ],
   "source": [
    "print(123,456,789)  #large number"
   ]
  },
  {
   "cell_type": "code",
   "execution_count": 18,
   "id": "9f1a9627",
   "metadata": {},
   "outputs": [
    {
     "name": "stdout",
     "output_type": "stream",
     "text": [
      "123456789\n"
     ]
    }
   ],
   "source": [
    "print(123456789)"
   ]
  },
  {
   "cell_type": "code",
   "execution_count": 19,
   "id": "558c54bf",
   "metadata": {},
   "outputs": [
    {
     "name": "stdout",
     "output_type": "stream",
     "text": [
      "123456789\n"
     ]
    }
   ],
   "source": [
    "print(123_456_789)"
   ]
  },
  {
   "cell_type": "code",
   "execution_count": 21,
   "id": "85b6de76",
   "metadata": {},
   "outputs": [
    {
     "name": "stdout",
     "output_type": "stream",
     "text": [
      "3.149\n"
     ]
    }
   ],
   "source": [
    "print(3.149) #float"
   ]
  },
  {
   "cell_type": "code",
   "execution_count": 22,
   "id": "ec88210a",
   "metadata": {},
   "outputs": [
    {
     "name": "stdout",
     "output_type": "stream",
     "text": [
      "True\n"
     ]
    }
   ],
   "source": [
    "print(True) #bool"
   ]
  },
  {
   "cell_type": "code",
   "execution_count": 23,
   "id": "e2a5eff1",
   "metadata": {},
   "outputs": [
    {
     "data": {
      "text/plain": [
       "False"
      ]
     },
     "execution_count": 23,
     "metadata": {},
     "output_type": "execute_result"
    }
   ],
   "source": [
    "False"
   ]
  },
  {
   "cell_type": "code",
   "execution_count": 24,
   "id": "54612702",
   "metadata": {},
   "outputs": [
    {
     "ename": "TypeError",
     "evalue": "object of type 'int' has no len()",
     "output_type": "error",
     "traceback": [
      "\u001b[1;31m---------------------------------------------------------------------------\u001b[0m",
      "\u001b[1;31mTypeError\u001b[0m                                 Traceback (most recent call last)",
      "Cell \u001b[1;32mIn[24], line 1\u001b[0m\n\u001b[1;32m----> 1\u001b[0m \u001b[38;5;28mlen\u001b[39m(\u001b[38;5;241m123\u001b[39m)\n",
      "\u001b[1;31mTypeError\u001b[0m: object of type 'int' has no len()"
     ]
    }
   ],
   "source": [
    "len(123)  #typeerror"
   ]
  },
  {
   "cell_type": "code",
   "execution_count": 25,
   "id": "3c6fa15d",
   "metadata": {},
   "outputs": [
    {
     "data": {
      "text/plain": [
       "6"
      ]
     },
     "execution_count": 25,
     "metadata": {},
     "output_type": "execute_result"
    }
   ],
   "source": [
    "len('Python')"
   ]
  },
  {
   "cell_type": "code",
   "execution_count": 26,
   "id": "a9d2bf77",
   "metadata": {},
   "outputs": [
    {
     "data": {
      "text/plain": [
       "str"
      ]
     },
     "execution_count": 26,
     "metadata": {},
     "output_type": "execute_result"
    }
   ],
   "source": [
    "type('hi')  #returns the type of value"
   ]
  },
  {
   "cell_type": "code",
   "execution_count": 27,
   "id": "b7761eaf",
   "metadata": {},
   "outputs": [
    {
     "data": {
      "text/plain": [
       "int"
      ]
     },
     "execution_count": 27,
     "metadata": {},
     "output_type": "execute_result"
    }
   ],
   "source": [
    "type(123)"
   ]
  },
  {
   "cell_type": "code",
   "execution_count": 28,
   "id": "43907097",
   "metadata": {},
   "outputs": [
    {
     "data": {
      "text/plain": [
       "float"
      ]
     },
     "execution_count": 28,
     "metadata": {},
     "output_type": "execute_result"
    }
   ],
   "source": [
    "type(3.7654)"
   ]
  },
  {
   "cell_type": "code",
   "execution_count": 29,
   "id": "0fdec33e",
   "metadata": {},
   "outputs": [
    {
     "data": {
      "text/plain": [
       "bool"
      ]
     },
     "execution_count": 29,
     "metadata": {},
     "output_type": "execute_result"
    }
   ],
   "source": [
    "type(True)"
   ]
  },
  {
   "cell_type": "code",
   "execution_count": 30,
   "id": "8123ae24",
   "metadata": {},
   "outputs": [
    {
     "data": {
      "text/plain": [
       "'123'"
      ]
     },
     "execution_count": 30,
     "metadata": {},
     "output_type": "execute_result"
    }
   ],
   "source": [
    "'123'"
   ]
  },
  {
   "cell_type": "code",
   "execution_count": 31,
   "id": "e1979766",
   "metadata": {},
   "outputs": [
    {
     "data": {
      "text/plain": [
       "123"
      ]
     },
     "execution_count": 31,
     "metadata": {},
     "output_type": "execute_result"
    }
   ],
   "source": [
    "int('123')  #type covnversion"
   ]
  },
  {
   "cell_type": "code",
   "execution_count": 32,
   "id": "042207c4",
   "metadata": {},
   "outputs": [
    {
     "data": {
      "text/plain": [
       "int"
      ]
     },
     "execution_count": 32,
     "metadata": {},
     "output_type": "execute_result"
    }
   ],
   "source": [
    "type(int('123'))"
   ]
  },
  {
   "cell_type": "code",
   "execution_count": 33,
   "id": "a4c53fa8",
   "metadata": {},
   "outputs": [
    {
     "data": {
      "text/plain": [
       "'123456'"
      ]
     },
     "execution_count": 33,
     "metadata": {},
     "output_type": "execute_result"
    }
   ],
   "source": [
    "'123'+'456'"
   ]
  },
  {
   "cell_type": "code",
   "execution_count": 34,
   "id": "ac6590c9",
   "metadata": {},
   "outputs": [
    {
     "data": {
      "text/plain": [
       "579"
      ]
     },
     "execution_count": 34,
     "metadata": {},
     "output_type": "execute_result"
    }
   ],
   "source": [
    "int('123')+int('456')"
   ]
  },
  {
   "cell_type": "code",
   "execution_count": 36,
   "id": "842aac59",
   "metadata": {},
   "outputs": [
    {
     "ename": "ValueError",
     "evalue": "invalid literal for int() with base 10: 'abc'",
     "output_type": "error",
     "traceback": [
      "\u001b[1;31m---------------------------------------------------------------------------\u001b[0m",
      "\u001b[1;31mValueError\u001b[0m                                Traceback (most recent call last)",
      "Cell \u001b[1;32mIn[36], line 1\u001b[0m\n\u001b[1;32m----> 1\u001b[0m \u001b[38;5;28mint\u001b[39m(\u001b[38;5;124m'\u001b[39m\u001b[38;5;124mabc\u001b[39m\u001b[38;5;124m'\u001b[39m)\n",
      "\u001b[1;31mValueError\u001b[0m: invalid literal for int() with base 10: 'abc'"
     ]
    }
   ],
   "source": [
    "int('abc')"
   ]
  },
  {
   "cell_type": "code",
   "execution_count": 37,
   "id": "4d474f2f",
   "metadata": {},
   "outputs": [
    {
     "name": "stdout",
     "output_type": "stream",
     "text": [
      "vasavi\n"
     ]
    },
    {
     "ename": "TypeError",
     "evalue": "can only concatenate str (not \"int\") to str",
     "output_type": "error",
     "traceback": [
      "\u001b[1;31m---------------------------------------------------------------------------\u001b[0m",
      "\u001b[1;31mTypeError\u001b[0m                                 Traceback (most recent call last)",
      "Cell \u001b[1;32mIn[37], line 1\u001b[0m\n\u001b[1;32m----> 1\u001b[0m \u001b[38;5;28mprint\u001b[39m(\u001b[38;5;124m'\u001b[39m\u001b[38;5;124mnumber of letters in your name: \u001b[39m\u001b[38;5;124m'\u001b[39m\u001b[38;5;241m+\u001b[39m \u001b[38;5;28mlen\u001b[39m(\u001b[38;5;28minput\u001b[39m()))\n",
      "\u001b[1;31mTypeError\u001b[0m: can only concatenate str (not \"int\") to str"
     ]
    }
   ],
   "source": [
    "print('number of letters in your name: '+ len(input()))"
   ]
  },
  {
   "cell_type": "code",
   "execution_count": 38,
   "id": "e0b64979",
   "metadata": {},
   "outputs": [
    {
     "name": "stdout",
     "output_type": "stream",
     "text": [
      "vasvai\n",
      "number of letters in your name: 6\n"
     ]
    }
   ],
   "source": [
    "\n",
    "print('number of letters in your name: '+ str(len(input())))\n",
    "\n"
   ]
  },
  {
   "cell_type": "code",
   "execution_count": 39,
   "id": "8552793a",
   "metadata": {},
   "outputs": [
    {
     "name": "stdout",
     "output_type": "stream",
     "text": [
      "hello programmers\n",
      "number of letters in your name:  17\n"
     ]
    }
   ],
   "source": [
    "print('number of letters in your name: ', len(input()))"
   ]
  },
  {
   "cell_type": "code",
   "execution_count": 40,
   "id": "c17f3230",
   "metadata": {},
   "outputs": [
    {
     "data": {
      "text/plain": [
       "79"
      ]
     },
     "execution_count": 40,
     "metadata": {},
     "output_type": "execute_result"
    }
   ],
   "source": [
    "45+34\n"
   ]
  },
  {
   "cell_type": "code",
   "execution_count": 41,
   "id": "04c03c1b",
   "metadata": {},
   "outputs": [
    {
     "data": {
      "text/plain": [
       "6"
      ]
     },
     "execution_count": 41,
     "metadata": {},
     "output_type": "execute_result"
    }
   ],
   "source": [
    "20-14"
   ]
  },
  {
   "cell_type": "code",
   "execution_count": 42,
   "id": "1e79262a",
   "metadata": {},
   "outputs": [
    {
     "data": {
      "text/plain": [
       "1156"
      ]
     },
     "execution_count": 42,
     "metadata": {},
     "output_type": "execute_result"
    }
   ],
   "source": [
    "34*34"
   ]
  },
  {
   "cell_type": "code",
   "execution_count": 43,
   "id": "7d69ab9a",
   "metadata": {},
   "outputs": [
    {
     "data": {
      "text/plain": [
       "118.08695652173913"
      ]
     },
     "execution_count": 43,
     "metadata": {},
     "output_type": "execute_result"
    }
   ],
   "source": [
    "5432/46"
   ]
  },
  {
   "cell_type": "code",
   "execution_count": 45,
   "id": "1c6ede4b",
   "metadata": {},
   "outputs": [
    {
     "data": {
      "text/plain": [
       "118"
      ]
     },
     "execution_count": 45,
     "metadata": {},
     "output_type": "execute_result"
    }
   ],
   "source": [
    "5432//46"
   ]
  },
  {
   "cell_type": "code",
   "execution_count": 44,
   "id": "a1cce567",
   "metadata": {},
   "outputs": [
    {
     "data": {
      "text/plain": [
       "54"
      ]
     },
     "execution_count": 44,
     "metadata": {},
     "output_type": "execute_result"
    }
   ],
   "source": [
    "24667//456"
   ]
  },
  {
   "cell_type": "code",
   "execution_count": 46,
   "id": "4f2ea33f",
   "metadata": {},
   "outputs": [
    {
     "data": {
      "text/plain": [
       "1156"
      ]
     },
     "execution_count": 46,
     "metadata": {},
     "output_type": "execute_result"
    }
   ],
   "source": [
    "34**2"
   ]
  },
  {
   "cell_type": "code",
   "execution_count": 50,
   "id": "d3d42edf",
   "metadata": {},
   "outputs": [
    {
     "data": {
      "text/plain": [
       "59.13953488372093"
      ]
     },
     "execution_count": 50,
     "metadata": {},
     "output_type": "execute_result"
    }
   ],
   "source": [
    "34+94/(132-46)*23   #(PEMDAS) -parantheses,exponention,multiplication,division,add,sub"
   ]
  },
  {
   "cell_type": "code",
   "execution_count": 51,
   "id": "78e00df0",
   "metadata": {},
   "outputs": [
    {
     "data": {
      "text/plain": [
       "7.0"
      ]
     },
     "execution_count": 51,
     "metadata": {},
     "output_type": "execute_result"
    }
   ],
   "source": [
    "3*3+3/3-3 #(9+1-3)---(10-3)---7"
   ]
  },
  {
   "cell_type": "markdown",
   "id": "a32d897d",
   "metadata": {},
   "source": [
    "### BMI CALCULATOR"
   ]
  },
  {
   "cell_type": "markdown",
   "id": "9f053a38",
   "metadata": {},
   "source": [
    "BMI Calculator\n",
    "The body mass index (BMI) is a measure used in medicine to see if someone is underweight or overweight. This is the formula used to calculate it:\n",
    "\n",
    "\n",
    "\n",
    "bmi is equal to the person's weight divided by the person's height squared."
   ]
  },
  {
   "cell_type": "code",
   "execution_count": 52,
   "id": "42649eb5",
   "metadata": {},
   "outputs": [
    {
     "name": "stdout",
     "output_type": "stream",
     "text": [
      "1.65\n",
      "84\n",
      "30.85399449035813\n"
     ]
    }
   ],
   "source": [
    "height=float(input())\n",
    "weight=float(input())\n",
    "\n",
    "BMI=weight/(height*height)\n",
    "print(BMI)"
   ]
  },
  {
   "cell_type": "code",
   "execution_count": 53,
   "id": "3f216b17",
   "metadata": {},
   "outputs": [
    {
     "name": "stdout",
     "output_type": "stream",
     "text": [
      "30\n"
     ]
    }
   ],
   "source": [
    "print(int(BMI))"
   ]
  },
  {
   "cell_type": "code",
   "execution_count": 54,
   "id": "663d4ad7",
   "metadata": {},
   "outputs": [
    {
     "name": "stdout",
     "output_type": "stream",
     "text": [
      "31\n"
     ]
    }
   ],
   "source": [
    "print(round(BMI))"
   ]
  },
  {
   "cell_type": "code",
   "execution_count": 56,
   "id": "aa98a601",
   "metadata": {},
   "outputs": [
    {
     "data": {
      "text/plain": [
       "31"
      ]
     },
     "execution_count": 56,
     "metadata": {},
     "output_type": "execute_result"
    }
   ],
   "source": [
    "round(30.8)"
   ]
  },
  {
   "cell_type": "code",
   "execution_count": 57,
   "id": "56668763",
   "metadata": {},
   "outputs": [
    {
     "data": {
      "text/plain": [
       "30"
      ]
     },
     "execution_count": 57,
     "metadata": {},
     "output_type": "execute_result"
    }
   ],
   "source": [
    "round(30.3)"
   ]
  },
  {
   "cell_type": "code",
   "execution_count": 58,
   "id": "e57fceca",
   "metadata": {},
   "outputs": [
    {
     "data": {
      "text/plain": [
       "30"
      ]
     },
     "execution_count": 58,
     "metadata": {},
     "output_type": "execute_result"
    }
   ],
   "source": [
    "round(30.5)"
   ]
  },
  {
   "cell_type": "code",
   "execution_count": 59,
   "id": "35c2beab",
   "metadata": {},
   "outputs": [
    {
     "data": {
      "text/plain": [
       "30.85"
      ]
     },
     "execution_count": 59,
     "metadata": {},
     "output_type": "execute_result"
    }
   ],
   "source": [
    "round(BMI,2)"
   ]
  },
  {
   "cell_type": "code",
   "execution_count": 60,
   "id": "219c0a52",
   "metadata": {},
   "outputs": [
    {
     "name": "stdout",
     "output_type": "stream",
     "text": [
      "your score is 34\n",
      "your height is 5.2\n"
     ]
    }
   ],
   "source": [
    "score=34\n",
    "height=5.2\n",
    "print(f'your score is {score}')\n",
    "print(f'your height is {height}')\n"
   ]
  },
  {
   "cell_type": "markdown",
   "id": "dec1a22e",
   "metadata": {},
   "source": [
    "### PROJECT - TIP CALCULATOR "
   ]
  },
  {
   "cell_type": "code",
   "execution_count": 85,
   "id": "05813646",
   "metadata": {},
   "outputs": [
    {
     "name": "stdout",
     "output_type": "stream",
     "text": [
      "Welcome to the Tip Calculator\n",
      "What was the total bill ? $ 124.56\n",
      "How much tip would you like to give tip? 10, 12 or 15? 12\n",
      "How many people to split the bill? 7\n",
      "Each person should pay :  19.9296\n"
     ]
    }
   ],
   "source": [
    "print('Welcome to the Tip Calculator')\n",
    "bill=float(input('What was the total bill ? $ '))\n",
    "tip=int(input('How much tip would you like to give tip? 10, 12 or 15? '))\n",
    "people=int(input('How many people to split the bill? '))\n",
    "tip_per= bill*(tip/100)\n",
    "total=bill+tip_per\n",
    "split=total/people\n",
    "print('Each person should pay : ',split)"
   ]
  }
 ],
 "metadata": {
  "kernelspec": {
   "display_name": "Python 3 (ipykernel)",
   "language": "python",
   "name": "python3"
  },
  "language_info": {
   "codemirror_mode": {
    "name": "ipython",
    "version": 3
   },
   "file_extension": ".py",
   "mimetype": "text/x-python",
   "name": "python",
   "nbconvert_exporter": "python",
   "pygments_lexer": "ipython3",
   "version": "3.11.5"
  }
 },
 "nbformat": 4,
 "nbformat_minor": 5
}
